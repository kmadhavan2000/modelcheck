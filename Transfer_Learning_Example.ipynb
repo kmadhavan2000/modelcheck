{
 "cells": [
  {
   "cell_type": "code",
   "execution_count": 34,
   "metadata": {
    "id": "PwCa8rBGirpk"
   },
   "outputs": [],
   "source": [
    "# Refer https://docs.python.org/3/library/glob.html for GLOB\n",
    "\n",
    "import tensorflow as tf\n",
    "from sklearn.metrics import confusion_matrix\n",
    "import numpy as np\n",
    "import matplotlib.pyplot as plt\n",
    "\n",
    "from glob import glob\n",
    "\n",
    "\n",
    "# re-size all the images to this\n",
    "IMAGE_SIZE = [100, 100] \n",
    "\n",
    "# training config:\n",
    "epochs = 5\n",
    "batch_size = 32\n",
    "\n",
    "\n",
    "\n",
    "# https://www.kaggle.com/moltean/fruits\n",
    "train_path = 'fruits-small/data/Training/'\n",
    "valid_path = 'fruits-small/data/Validation'\n",
    "\n",
    "\n",
    "# useful for getting number of files\n",
    "image_files = glob(train_path + '/*/*.jp*g')\n",
    "valid_image_files = glob(valid_path + '/*/*.jp*g')\n",
    "\n",
    "# useful for getting number of classes\n",
    "folders = glob(train_path + '/*')\n",
    "\n"
   ]
  },
  {
   "cell_type": "markdown",
   "metadata": {},
   "source": [
    "# VGG16"
   ]
  },
  {
   "cell_type": "code",
   "execution_count": 35,
   "metadata": {
    "id": "qDntt9XXirpo",
    "outputId": "e311eca7-2560-448c-cde2-7aeb2b585fa2"
   },
   "outputs": [
    {
     "name": "stdout",
     "output_type": "stream",
     "text": [
      "Found 3425 images belonging to 7 classes.\n",
      "Found 1150 images belonging to 7 classes.\n"
     ]
    }
   ],
   "source": [
    "# create an instance of ImageDataGenerator\n",
    "gen = tf.keras.preprocessing.image.ImageDataGenerator(\n",
    "  rotation_range=20,\n",
    "  width_shift_range=0.1,\n",
    "  height_shift_range=0.1,\n",
    "  shear_range=0.1,\n",
    "  zoom_range=0.2,\n",
    "  horizontal_flip=True,\n",
    "  vertical_flip=True,\n",
    "  preprocessing_function=tf.keras.applications.vgg16.preprocess_input\n",
    ")\n",
    "\n",
    "train_generator = gen.flow_from_directory(\n",
    "  train_path,\n",
    "  target_size=IMAGE_SIZE,\n",
    "  shuffle=True,\n",
    "  batch_size=batch_size,\n",
    ")\n",
    "valid_generator = gen.flow_from_directory(\n",
    "  valid_path,\n",
    "  target_size=IMAGE_SIZE,\n",
    "  shuffle=True,\n",
    "  batch_size=batch_size,\n",
    ")"
   ]
  },
  {
   "cell_type": "code",
   "execution_count": 36,
   "metadata": {
    "id": "tMmndxryirps"
   },
   "outputs": [],
   "source": [
    "#VGG16 Example\n",
    "\n",
    "#include_top = True ----> You are going to use the entire pre-trained model which is trained in Imgnet.\n",
    "#include_top = False\n",
    "\n",
    "vgg = tf.keras.applications.vgg16.VGG16(input_shape=[100,100,3] ,\n",
    "                                       weights=\"imagenet\",\n",
    "                                       include_top=False)"
   ]
  },
  {
   "cell_type": "code",
   "execution_count": 37,
   "metadata": {
    "id": "K0SQEfJQirpv"
   },
   "outputs": [],
   "source": [
    "#Dont train existing weights  -- Locking the pretrained weights\n",
    "for layer in vgg.layers:\n",
    "    layer.trainable = False"
   ]
  },
  {
   "cell_type": "code",
   "execution_count": 38,
   "metadata": {
    "id": "8sldS57Jirpy"
   },
   "outputs": [],
   "source": [
    "#Adding our layers -- Fully Connected\n",
    "flatten = tf.keras.layers.Flatten()\n",
    "#...\n",
    "finalLayer = tf.keras.layers.Dense(7, activation=\"softmax\")\n",
    "\n",
    "model = tf.keras.models.Sequential([\n",
    "    vgg,  #vgg without fully connected network\n",
    "    flatten, #Adding Flattening\n",
    "    finalLayer #Adding Output Layer\n",
    "])"
   ]
  },
  {
   "cell_type": "code",
   "execution_count": 6,
   "metadata": {
    "id": "WKsqBkRsirp1",
    "outputId": "0bdffdd1-8488-4186-cbad-708bc6621bda"
   },
   "outputs": [
    {
     "name": "stdout",
     "output_type": "stream",
     "text": [
      "Model: \"sequential\"\n",
      "_________________________________________________________________\n",
      "Layer (type)                 Output Shape              Param #   \n",
      "=================================================================\n",
      "vgg16 (Model)                (None, 3, 3, 512)         14714688  \n",
      "_________________________________________________________________\n",
      "flatten (Flatten)            (None, 4608)              0         \n",
      "_________________________________________________________________\n",
      "dense (Dense)                (None, 7)                 32263     \n",
      "=================================================================\n",
      "Total params: 14,746,951\n",
      "Trainable params: 32,263\n",
      "Non-trainable params: 14,714,688\n",
      "_________________________________________________________________\n"
     ]
    }
   ],
   "source": [
    "model.summary()"
   ]
  },
  {
   "cell_type": "code",
   "execution_count": 39,
   "metadata": {
    "id": "f0dUU5W4irp4"
   },
   "outputs": [],
   "source": [
    "#Compile\n",
    "model.compile(loss='categorical_crossentropy',\n",
    "             optimizer='rmsprop',\n",
    "             metrics=['accuracy'])"
   ]
  },
  {
   "cell_type": "code",
   "execution_count": 40,
   "metadata": {
    "id": "f7KLIkKOirp8",
    "outputId": "fa3bb619-b746-46d0-e00d-f3770dfbf768"
   },
   "outputs": [
    {
     "name": "stdout",
     "output_type": "stream",
     "text": [
      "WARNING:tensorflow:sample_weight modes were coerced from\n",
      "  ...\n",
      "    to  \n",
      "  ['...']\n",
      "WARNING:tensorflow:sample_weight modes were coerced from\n",
      "  ...\n",
      "    to  \n",
      "  ['...']\n",
      "Train for 107 steps, validate for 35 steps\n",
      "Epoch 1/5\n",
      "107/107 [==============================] - 46s 429ms/step - loss: 0.5406 - accuracy: 0.9649 - val_loss: 0.1603 - val_accuracy: 0.9759\n",
      "Epoch 2/5\n",
      "107/107 [==============================] - 48s 444ms/step - loss: 0.0284 - accuracy: 0.9971 - val_loss: 0.0028 - val_accuracy: 0.9991\n",
      "Epoch 3/5\n",
      "107/107 [==============================] - 44s 412ms/step - loss: 0.0073 - accuracy: 0.9982 - val_loss: 0.0049 - val_accuracy: 0.9991\n",
      "Epoch 4/5\n",
      "107/107 [==============================] - 45s 416ms/step - loss: 0.0019 - accuracy: 0.9994 - val_loss: 0.0053 - val_accuracy: 0.9982\n",
      "Epoch 5/5\n",
      "107/107 [==============================] - 43s 404ms/step - loss: 3.5582e-05 - accuracy: 1.0000 - val_loss: 9.7211e-07 - val_accuracy: 1.0000\n"
     ]
    }
   ],
   "source": [
    "#Fit\n",
    "history = model.fit(train_generator,\n",
    "                    validation_data=valid_generator,\n",
    "                   epochs=5,\n",
    "                   steps_per_epoch= len(train_generator.filenames) // batch_size,\n",
    "                   validation_steps= len(valid_generator.filenames) // batch_size,\n",
    "                   use_multiprocessing=False)"
   ]
  },
  {
   "cell_type": "markdown",
   "metadata": {
    "id": "hVu4wy0BirqA"
   },
   "source": [
    "# Confusion Matrix Solution"
   ]
  },
  {
   "cell_type": "code",
   "execution_count": 9,
   "metadata": {
    "id": "gPOkRXRWirqB",
    "outputId": "f9a1740f-a454-4096-e375-1b8d8ce79e1a"
   },
   "outputs": [
    {
     "name": "stdout",
     "output_type": "stream",
     "text": [
      "Found 1150 images belonging to 7 classes.\n",
      "{'Banana': 0, 'Lemon': 1, 'Mango': 2, 'Orange': 3, 'Pineapple': 4, 'Pomegranate': 5, 'Strawberry': 6}\n"
     ]
    }
   ],
   "source": [
    "# get label mapping for confusion matrix plot later\n",
    "test_gen = gen.flow_from_directory(valid_path, target_size=IMAGE_SIZE)\n",
    "print(test_gen.class_indices)\n",
    "labels = [None] * len(test_gen.class_indices)\n",
    "for k, v in test_gen.class_indices.items():\n",
    "  labels[v] = k\n"
   ]
  },
  {
   "cell_type": "code",
   "execution_count": 10,
   "metadata": {
    "id": "-rxnibTBirqE",
    "outputId": "bbd602ec-e40d-4420-f229-1a5622a63edb"
   },
   "outputs": [
    {
     "data": {
      "text/plain": [
       "['Banana',\n",
       " 'Lemon',\n",
       " 'Mango',\n",
       " 'Orange',\n",
       " 'Pineapple',\n",
       " 'Pomegranate',\n",
       " 'Strawberry']"
      ]
     },
     "execution_count": 10,
     "metadata": {},
     "output_type": "execute_result"
    }
   ],
   "source": [
    "labels"
   ]
  },
  {
   "cell_type": "code",
   "execution_count": 11,
   "metadata": {
    "id": "9rxdwT0wirqH",
    "outputId": "98274c4f-c7ef-4dd8-f5c4-826a7fb7c8da"
   },
   "outputs": [
    {
     "name": "stdout",
     "output_type": "stream",
     "text": [
      "Generating confusion matrix 3425\n",
      "Found 3425 images belonging to 7 classes.\n",
      "50\n",
      "[[490   0   0   0   0   0   0]\n",
      " [  0 486   0   6   0   0   0]\n",
      " [  0   0 490   0   0   0   0]\n",
      " [  0   0   0 479   0   0   0]\n",
      " [  0   0   0   0 490   0   0]\n",
      " [  0   0   0   0   0 492   0]\n",
      " [  0   0   0   1   0   0 491]]\n",
      "Generating confusion matrix 1150\n",
      "Found 1150 images belonging to 7 classes.\n",
      "[[166   0   0   0   0   0   0]\n",
      " [  1 155   0   8   0   0   0]\n",
      " [  0   0 166   0   0   0   0]\n",
      " [  0   0   0 160   0   0   0]\n",
      " [  0   0   0   0 166   0   0]\n",
      " [  0   0   0   0   0 164   0]\n",
      " [  0   0   0   0   0   0 164]]\n"
     ]
    }
   ],
   "source": [
    "\n",
    "\n",
    "from sklearn.metrics import confusion_matrix\n",
    "import numpy as np\n",
    "\n",
    "def get_confusion_matrix(data_path, N):\n",
    "    \n",
    "  print(\"Generating confusion matrix\", N)\n",
    "  predictions = []\n",
    "  targets = []\n",
    "  i = 0\n",
    "  for x, y in gen.flow_from_directory(data_path, target_size=IMAGE_SIZE, shuffle=False, batch_size=batch_size * 2):\n",
    "    i += 1\n",
    "    if i % 50 == 0:\n",
    "      print(i)\n",
    "    p = model.predict(x)\n",
    "    p = np.argmax(p, axis=1)\n",
    "    y = np.argmax(y, axis=1)\n",
    "    predictions = np.concatenate((predictions, p))\n",
    "    targets = np.concatenate((targets, y))\n",
    "    if len(targets) >= N:\n",
    "      break\n",
    "\n",
    "  cm = confusion_matrix(targets, predictions)\n",
    "  return cm\n",
    "\n",
    "\n",
    "cm = get_confusion_matrix(train_path, len(image_files))\n",
    "print(cm)\n",
    "valid_cm = get_confusion_matrix(valid_path, len(valid_image_files))\n",
    "print(valid_cm)\n"
   ]
  },
  {
   "cell_type": "code",
   "execution_count": 12,
   "metadata": {
    "id": "IjENIwqGirqK",
    "outputId": "56a415ef-f255-4d53-8567-e18e45fb102a",
    "scrolled": true
   },
   "outputs": [
    {
     "data": {
      "text/plain": [
       "<matplotlib.image.AxesImage at 0x1f3fe256508>"
      ]
     },
     "execution_count": 12,
     "metadata": {},
     "output_type": "execute_result"
    },
    {
     "data": {
      "image/png": "[encoded data removed]",
      "text/plain": [
       "<Figure size 432x288 with 1 Axes>"
      ]
     },
     "metadata": {
      "needs_background": "light"
     },
     "output_type": "display_data"
    }
   ],
   "source": [
    "import matplotlib.pyplot as plt\n",
    "%matplotlib inline\n",
    "#tf.keras.preprocessing.image.load_img(image_files[0])\n",
    "plt.imshow(tf.keras.preprocessing.image.load_img(image_files[0]))"
   ]
  },
  {
   "cell_type": "markdown",
   "metadata": {},
   "source": [
    "# Inception v3"
   ]
  },
  {
   "cell_type": "code",
   "execution_count": 13,
   "metadata": {},
   "outputs": [
    {
     "name": "stdout",
     "output_type": "stream",
     "text": [
      "Found 3425 images belonging to 7 classes.\n",
      "Found 1150 images belonging to 7 classes.\n"
     ]
    }
   ],
   "source": [
    "gen = tf.keras.preprocessing.image.ImageDataGenerator(\n",
    "  rotation_range=20,\n",
    "  width_shift_range=0.1,\n",
    "  height_shift_range=0.1,\n",
    "  shear_range=0.1,\n",
    "  zoom_range=0.2,\n",
    "  horizontal_flip=True,\n",
    "  vertical_flip=True,\n",
    "  preprocessing_function=tf.keras.applications.inception_v3.preprocess_input\n",
    ")\n",
    "\n",
    "train_generator = gen.flow_from_directory(\n",
    "  train_path,\n",
    "  target_size=IMAGE_SIZE,\n",
    "  shuffle=True,\n",
    "  batch_size=batch_size,\n",
    ")\n",
    "valid_generator = gen.flow_from_directory(\n",
    "  valid_path,\n",
    "  target_size=IMAGE_SIZE,\n",
    "  shuffle=True,\n",
    "  batch_size=batch_size,\n",
    ")"
   ]
  },
  {
   "cell_type": "code",
   "execution_count": 31,
   "metadata": {
    "id": "158qTHX7irqO"
   },
   "outputs": [
    {
     "name": "stdout",
     "output_type": "stream",
     "text": [
      "Downloading data from https://github.com/fchollet/deep-learning-models/releases/download/v0.5/inception_v3_weights_tf_dim_ordering_tf_kernels_notop.h5\n",
      "87916544/87910968 [==============================] - 39s 0us/step\n"
     ]
    }
   ],
   "source": [
    "\n",
    "# example of loading the inception v3 model\n",
    "#from keras.applications.inception_v3 import InceptionV3\n",
    "# load model\n",
    "inception = tf.keras.applications.InceptionV3(input_shape=[100,100,3] ,weights=\"imagenet\",include_top=False)\n",
    "\n",
    "#Dont train existing weights\n",
    "for layer in inception.layers:\n",
    "    layer.trainable = False\n",
    "    \n",
    "#Adding our layers -- Fully Connected\n",
    "flatten = tf.keras.layers.Flatten()\n",
    "#...\n",
    "finalLayer = tf.keras.layers.Dense(7, activation=\"softmax\")\n",
    "\n",
    "model = tf.keras.models.Sequential([\n",
    "    inception,  #vgg without fully connected network\n",
    "    flatten, #Adding Flattening\n",
    "    finalLayer #Adding Output Layer\n",
    "])\n",
    "     "
   ]
  },
  {
   "cell_type": "code",
   "execution_count": 32,
   "metadata": {},
   "outputs": [],
   "source": [
    "#Compile\n",
    "model.compile(loss='categorical_crossentropy',\n",
    "             optimizer='rmsprop',\n",
    "             metrics=['accuracy'])"
   ]
  },
  {
   "cell_type": "code",
   "execution_count": 33,
   "metadata": {
    "scrolled": true
   },
   "outputs": [
    {
     "name": "stdout",
     "output_type": "stream",
     "text": [
      "WARNING:tensorflow:sample_weight modes were coerced from\n",
      "  ...\n",
      "    to  \n",
      "  ['...']\n",
      "WARNING:tensorflow:sample_weight modes were coerced from\n",
      "  ...\n",
      "    to  \n",
      "  ['...']\n",
      "Train for 107 steps, validate for 35 steps\n",
      "Epoch 1/5\n",
      "107/107 [==============================] - 18s 171ms/step - loss: 1.4132 - accuracy: 0.5503 - val_loss: 1.0737 - val_accuracy: 0.6482\n",
      "Epoch 2/5\n",
      "107/107 [==============================] - 12s 115ms/step - loss: 0.9316 - accuracy: 0.7648 - val_loss: 0.5696 - val_accuracy: 0.8089\n",
      "Epoch 3/5\n",
      "107/107 [==============================] - 12s 115ms/step - loss: 0.7449 - accuracy: 0.8031 - val_loss: 0.9923 - val_accuracy: 0.7152\n",
      "Epoch 4/5\n",
      "107/107 [==============================] - 12s 115ms/step - loss: 0.6404 - accuracy: 0.8190 - val_loss: 0.6339 - val_accuracy: 0.8116\n",
      "Epoch 5/5\n",
      "107/107 [==============================] - 12s 113ms/step - loss: 0.5950 - accuracy: 0.8305 - val_loss: 0.6762 - val_accuracy: 0.8134\n"
     ]
    }
   ],
   "source": [
    "#Fit\n",
    "history = model.fit(train_generator,\n",
    "                    validation_data=valid_generator,\n",
    "                   epochs=5,\n",
    "                   steps_per_epoch= len(train_generator.filenames) // batch_size,\n",
    "                   validation_steps= len(valid_generator.filenames) // batch_size,\n",
    "                   use_multiprocessing=False)"
   ]
  },
  {
   "cell_type": "code",
   "execution_count": null,
   "metadata": {},
   "outputs": [],
   "source": []
  },
  {
   "cell_type": "markdown",
   "metadata": {},
   "source": [
    "# Resnet 50"
   ]
  },
  {
   "cell_type": "code",
   "execution_count": 15,
   "metadata": {},
   "outputs": [
    {
     "name": "stdout",
     "output_type": "stream",
     "text": [
      "Found 3425 images belonging to 7 classes.\n",
      "Found 1150 images belonging to 7 classes.\n"
     ]
    }
   ],
   "source": [
    "gen = tf.keras.preprocessing.image.ImageDataGenerator(\n",
    "  rotation_range=20,\n",
    "  width_shift_range=0.1,\n",
    "  height_shift_range=0.1,\n",
    "  shear_range=0.1,\n",
    "  zoom_range=0.2,\n",
    "  horizontal_flip=True,\n",
    "  vertical_flip=True,\n",
    "  preprocessing_function=tf.keras.applications.resnet50.preprocess_input\n",
    ")\n",
    "\n",
    "train_generator = gen.flow_from_directory(\n",
    "  train_path,\n",
    "  target_size=IMAGE_SIZE,\n",
    "  shuffle=True,\n",
    "  batch_size=batch_size,\n",
    ")\n",
    "valid_generator = gen.flow_from_directory(\n",
    "  valid_path,\n",
    "  target_size=IMAGE_SIZE,\n",
    "  shuffle=True,\n",
    "  batch_size=batch_size,\n",
    ")"
   ]
  },
  {
   "cell_type": "code",
   "execution_count": 27,
   "metadata": {
    "id": "158qTHX7irqO"
   },
   "outputs": [
    {
     "name": "stdout",
     "output_type": "stream",
     "text": [
      "Downloading data from https://github.com/keras-team/keras-applications/releases/download/resnet/resnet50_weights_tf_dim_ordering_tf_kernels_notop.h5\n",
      "94773248/94765736 [==============================] - 24s 0us/step\n",
      "Model: \"sequential_2\"\n",
      "_________________________________________________________________\n",
      "Layer (type)                 Output Shape              Param #   \n",
      "=================================================================\n",
      "resnet50 (Model)             (None, 4, 4, 2048)        23587712  \n",
      "_________________________________________________________________\n",
      "flatten_2 (Flatten)          (None, 32768)             0         \n",
      "_________________________________________________________________\n",
      "dense_2 (Dense)              (None, 7)                 229383    \n",
      "=================================================================\n",
      "Total params: 23,817,095\n",
      "Trainable params: 229,383\n",
      "Non-trainable params: 23,587,712\n",
      "_________________________________________________________________\n"
     ]
    }
   ],
   "source": [
    "import tensorflow as tf\n",
    "\n",
    "# example of loading the inception v3 model\n",
    "#from keras.applications.resnet50 import ResNet50\n",
    "# load model\n",
    "resnet = tf.keras.applications.ResNet50(input_shape=[100,100,3] ,weights=\"imagenet\",include_top=False)\n",
    "\n",
    "#Dont train existing weights\n",
    "for layer in resnet.layers:\n",
    "    layer.trainable = False\n",
    "    \n",
    "#Adding our layers -- Fully Connected\n",
    "flatten = tf.keras.layers.Flatten()\n",
    "#...\n",
    "finalLayer = tf.keras.layers.Dense(7, activation=\"softmax\")\n",
    "\n",
    "model = tf.keras.models.Sequential([\n",
    "    resnet,\n",
    "    flatten,\n",
    "    finalLayer\n",
    "])\n",
    "\n",
    "model.summary()"
   ]
  },
  {
   "cell_type": "code",
   "execution_count": 28,
   "metadata": {},
   "outputs": [],
   "source": [
    "#Compile\n",
    "model.compile(loss='categorical_crossentropy',\n",
    "             optimizer='rmsprop',\n",
    "             metrics=['accuracy'])"
   ]
  },
  {
   "cell_type": "code",
   "execution_count": 29,
   "metadata": {},
   "outputs": [
    {
     "name": "stdout",
     "output_type": "stream",
     "text": [
      "WARNING:tensorflow:sample_weight modes were coerced from\n",
      "  ...\n",
      "    to  \n",
      "  ['...']\n",
      "WARNING:tensorflow:sample_weight modes were coerced from\n",
      "  ...\n",
      "    to  \n",
      "  ['...']\n",
      "Train for 107 steps, validate for 35 steps\n",
      "Epoch 1/5\n",
      "107/107 [==============================] - 16s 152ms/step - loss: 0.4127 - accuracy: 0.9646 - val_loss: 7.5816 - val_accuracy: 0.2089\n",
      "Epoch 2/5\n",
      "107/107 [==============================] - 12s 115ms/step - loss: 0.0173 - accuracy: 0.9959 - val_loss: 9.4438 - val_accuracy: 0.1991\n",
      "Epoch 3/5\n",
      "107/107 [==============================] - 12s 111ms/step - loss: 0.0169 - accuracy: 0.9976 - val_loss: 10.2811 - val_accuracy: 0.1437\n",
      "Epoch 4/5\n",
      "107/107 [==============================] - 12s 111ms/step - loss: 0.0312 - accuracy: 0.9973 - val_loss: 9.2447 - val_accuracy: 0.2036\n",
      "Epoch 5/5\n",
      "107/107 [==============================] - 12s 117ms/step - loss: 0.0019 - accuracy: 0.9991 - val_loss: 10.8488 - val_accuracy: 0.1723\n"
     ]
    }
   ],
   "source": [
    "#Fit\n",
    "history = model.fit(train_generator,\n",
    "                    validation_data=valid_generator,\n",
    "                   epochs=5,\n",
    "                   steps_per_epoch= len(train_generator.filenames) // batch_size,\n",
    "                   validation_steps= len(valid_generator.filenames) // batch_size,\n",
    "                   use_multiprocessing=False)"
   ]
  },
  {
   "cell_type": "code",
   "execution_count": null,
   "metadata": {},
   "outputs": [],
   "source": []
  },
  {
   "cell_type": "markdown",
   "metadata": {},
   "source": [
    "# Xception"
   ]
  },
  {
   "cell_type": "code",
   "execution_count": 20,
   "metadata": {},
   "outputs": [
    {
     "name": "stdout",
     "output_type": "stream",
     "text": [
      "Found 3425 images belonging to 7 classes.\n",
      "Found 1150 images belonging to 7 classes.\n"
     ]
    }
   ],
   "source": [
    "gen = tf.keras.preprocessing.image.ImageDataGenerator(\n",
    "  rotation_range=20,\n",
    "  width_shift_range=0.1,\n",
    "  height_shift_range=0.1,\n",
    "  shear_range=0.1,\n",
    "  zoom_range=0.2,\n",
    "  horizontal_flip=True,\n",
    "  vertical_flip=True,\n",
    "  preprocessing_function=tf.keras.applications.xception.preprocess_input\n",
    ")\n",
    "\n",
    "train_generator = gen.flow_from_directory(\n",
    "  train_path,\n",
    "  target_size=IMAGE_SIZE,\n",
    "  shuffle=True,\n",
    "  batch_size=batch_size,\n",
    ")\n",
    "valid_generator = gen.flow_from_directory(\n",
    "  valid_path,\n",
    "  target_size=IMAGE_SIZE,\n",
    "  shuffle=True,\n",
    "  batch_size=batch_size,\n",
    ")"
   ]
  },
  {
   "cell_type": "code",
   "execution_count": 24,
   "metadata": {
    "id": "158qTHX7irqO"
   },
   "outputs": [
    {
     "name": "stdout",
     "output_type": "stream",
     "text": [
      "Model: \"sequential_1\"\n",
      "_________________________________________________________________\n",
      "Layer (type)                 Output Shape              Param #   \n",
      "=================================================================\n",
      "xception (Model)             (None, 3, 3, 2048)        20861480  \n",
      "_________________________________________________________________\n",
      "flatten_1 (Flatten)          (None, 18432)             0         \n",
      "_________________________________________________________________\n",
      "dense_1 (Dense)              (None, 7)                 129031    \n",
      "=================================================================\n",
      "Total params: 20,990,511\n",
      "Trainable params: 129,031\n",
      "Non-trainable params: 20,861,480\n",
      "_________________________________________________________________\n"
     ]
    }
   ],
   "source": [
    "\n",
    "# example of loading the inception v3 model\n",
    "#from keras.applications.xception import Xception\n",
    "# load model\n",
    "\n",
    "\n",
    "xception = tf.keras.applications.Xception(input_shape=[100,100,3] ,weights=\"imagenet\",include_top=False)\n",
    "\n",
    "#Dont train existing weights\n",
    "for layer in xception.layers:\n",
    "    layer.trainable = False\n",
    "    \n",
    "#Adding our layers -- Fully Connected\n",
    "flatten = tf.keras.layers.Flatten()\n",
    "#...\n",
    "finalLayer = tf.keras.layers.Dense(7, activation=\"softmax\")\n",
    "\n",
    "model = tf.keras.models.Sequential([\n",
    "    xception,\n",
    "    flatten,\n",
    "    finalLayer\n",
    "])\n",
    "\n",
    "model.summary()"
   ]
  },
  {
   "cell_type": "code",
   "execution_count": 25,
   "metadata": {},
   "outputs": [],
   "source": [
    "#Compile\n",
    "model.compile(loss='categorical_crossentropy',\n",
    "             optimizer='rmsprop',\n",
    "             metrics=['accuracy'])"
   ]
  },
  {
   "cell_type": "code",
   "execution_count": 26,
   "metadata": {},
   "outputs": [
    {
     "name": "stdout",
     "output_type": "stream",
     "text": [
      "WARNING:tensorflow:sample_weight modes were coerced from\n",
      "  ...\n",
      "    to  \n",
      "  ['...']\n",
      "WARNING:tensorflow:sample_weight modes were coerced from\n",
      "  ...\n",
      "    to  \n",
      "  ['...']\n",
      "Train for 107 steps, validate for 35 steps\n",
      "Epoch 1/5\n",
      "107/107 [==============================] - 16s 151ms/step - loss: 0.5795 - accuracy: 0.8998 - val_loss: 6.5416 - val_accuracy: 0.4982\n",
      "Epoch 2/5\n",
      "107/107 [==============================] - 12s 112ms/step - loss: 0.3103 - accuracy: 0.9755 - val_loss: 10.2706 - val_accuracy: 0.4080\n",
      "Epoch 3/5\n",
      "107/107 [==============================] - 12s 111ms/step - loss: 0.1700 - accuracy: 0.9817 - val_loss: 8.6005 - val_accuracy: 0.4893\n",
      "Epoch 4/5\n",
      "107/107 [==============================] - 13s 120ms/step - loss: 0.1535 - accuracy: 0.9832 - val_loss: 6.5961 - val_accuracy: 0.6598\n",
      "Epoch 5/5\n",
      "107/107 [==============================] - 12s 108ms/step - loss: 0.1022 - accuracy: 0.9859 - val_loss: 7.9958 - val_accuracy: 0.6830\n"
     ]
    }
   ],
   "source": [
    "#Fit\n",
    "history = model.fit(train_generator,\n",
    "                    validation_data=valid_generator,\n",
    "                   epochs=5,\n",
    "                   steps_per_epoch= len(train_generator.filenames) // batch_size,\n",
    "                   validation_steps= len(valid_generator.filenames) // batch_size,\n",
    "                   use_multiprocessing=False)"
   ]
  },
  {
   "cell_type": "code",
   "execution_count": null,
   "metadata": {},
   "outputs": [],
   "source": []
  }
 ],
 "metadata": {
  "colab": {
   "name": "VGG Example.ipynb",
   "provenance": []
  },
  "kernelspec": {
   "display_name": "Python 3",
   "language": "python",
   "name": "python3"
  },
  "language_info": {
   "codemirror_mode": {
    "name": "ipython",
    "version": 3
   },
   "file_extension": ".py",
   "mimetype": "text/x-python",
   "name": "python",
   "nbconvert_exporter": "python",
   "pygments_lexer": "ipython3",
   "version": "3.7.8"
  }
 },
 "nbformat": 4,
 "nbformat_minor": 4
}
